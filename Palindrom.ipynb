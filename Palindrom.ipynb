{
 "cells": [
  {
   "cell_type": "markdown",
   "id": "eba55f7e",
   "metadata": {},
   "source": [
    "PALINDROM CHECKER\n",
    "The Python script below checks if a sequence or word typed by the user is the same when read in reverse order, i.e. it checks if the sequence / word is palindromic (e.g. the word kajak is palindromic)."
   ]
  },
  {
   "cell_type": "code",
   "execution_count": 1,
   "id": "95d4b05d",
   "metadata": {},
   "outputs": [
    {
     "name": "stdout",
     "output_type": "stream",
     "text": [
      "Type a sequence or a word: kajak\n",
      "The sequence or word that you typed is palindromic.\n"
     ]
    }
   ],
   "source": [
    "given_sequence = input('Type a sequence or a word: ')\n",
    "given_sequence = str(given_sequence)\n",
    "\n",
    "given_sequence_as_list = list(given_sequence)\n",
    "#print(given_sequence_as_list)\n",
    "\n",
    "given_sequence_as_list_copy = given_sequence_as_list[:]\n",
    "#print(given_sequence_copy)\n",
    "\n",
    "given_sequence_as_list_copy.reverse()\n",
    "#print(given_sequence_copy)\n",
    "\n",
    "given_sequence_copy_str = ''.join(given_sequence_as_list_copy)\n",
    "#print(given_sequence_copy_str)\n",
    "\n",
    "if given_sequence_copy_str == given_sequence:\n",
    "    print('The sequence or word that you typed is palindromic.')\n",
    "else:\n",
    "    print('The sequence or word that you typed is not palindromic.')"
   ]
  },
  {
   "cell_type": "code",
   "execution_count": null,
   "id": "0829eaf0",
   "metadata": {},
   "outputs": [],
   "source": []
  }
 ],
 "metadata": {
  "kernelspec": {
   "display_name": "Python 3 (ipykernel)",
   "language": "python",
   "name": "python3"
  },
  "language_info": {
   "codemirror_mode": {
    "name": "ipython",
    "version": 3
   },
   "file_extension": ".py",
   "mimetype": "text/x-python",
   "name": "python",
   "nbconvert_exporter": "python",
   "pygments_lexer": "ipython3",
   "version": "3.9.7"
  }
 },
 "nbformat": 4,
 "nbformat_minor": 5
}
